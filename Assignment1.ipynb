{
 "cells": [
  {
   "cell_type": "code",
   "execution_count": 9,
   "metadata": {},
   "outputs": [],
   "source": [
    "import numpy as np\n",
    "import cv2\n",
    "import heapq\n",
    "import statistics\n",
    "import math"
   ]
  },
  {
   "cell_type": "code",
   "execution_count": 10,
   "metadata": {},
   "outputs": [],
   "source": [
    "def popularity(image,k):\n",
    "        (m,n,_) = image.shape\n",
    "        d = {}\n",
    "        for i in range(m):\n",
    "            for j in range(n):\n",
    "                t = tuple(image[i,j])\n",
    "                if t in d:\n",
    "                    d[t] += 1\n",
    "                else:\n",
    "                    d[t] = 1\n",
    "        top_k_colors =heapq.nlargest(k, d, key=d.get)\n",
    "        return top_k_colors"
   ]
  },
  {
   "cell_type": "code",
   "execution_count": 11,
   "metadata": {},
   "outputs": [],
   "source": [
    "def split(list_of_tuples,colors,color_to_split,k):\n",
    "    if (k==1):\n",
    "        return [sum([x[0]*x[1] for x in list_of_tuples])/(sum([x[1] for x in list_of_tuples]))]\n",
    "    median = statistics.median([x[0][color_to_split] for x in list_of_tuples])\n",
    "    left = filter(lambda x: x[0][color_to_split] <= median , list_of_tuples)\n",
    "    right = filter(lambda x: x[0][color_to_split] > median, list_of_tuples)\n",
    "    return (split(left,colors,(color_to_split+1)%colors,k/2)+split(right,colors,(color_to_split+1)%colors,k/2))"
   ]
  },
  {
   "cell_type": "code",
   "execution_count": 12,
   "metadata": {},
   "outputs": [],
   "source": [
    "def median_cut(image,k):\n",
    "    (m,n,c) = image.shape\n",
    "    d = {}\n",
    "    for i in range(m):\n",
    "        for j in range(n):\n",
    "            t = tuple(image[i,j])\n",
    "            if t in d:\n",
    "                d[t] += 1\n",
    "            else:\n",
    "                d[t] = 1\n",
    "    l = d.values()\n",
    "#     print(type(l))\n",
    "    # color to split missing\n",
    "    split(l,c,k)"
   ]
  },
  {
   "cell_type": "code",
   "execution_count": 13,
   "metadata": {},
   "outputs": [],
   "source": [
    "def popularity_quant(image, k):\n",
    "    finalImage = image.copy()\n",
    "    color_map = popularity(image, k)\n",
    "    (m,n,_) = image.shape\n",
    "        \n",
    "    for i in range(m):\n",
    "        for j in range(n):\n",
    "            t = tuple(image[i,j])\n",
    "            min_dist = 10000.0\n",
    "            for col in color_map:\n",
    "                dist = get_norm(t, col)\n",
    "                if min_dist > dist :\n",
    "                    min_dist = dist\n",
    "                    min_col = col\n",
    "                    \n",
    "            finalImage[i,j] = np.asarray(min_col)\n",
    "    return finalImage"
   ]
  },
  {
   "cell_type": "code",
   "execution_count": 14,
   "metadata": {},
   "outputs": [],
   "source": [
    "def get_norm(t1 , t2):\n",
    "    (xa, ya, za) = t1\n",
    "    (xb, yb, zb) = t2\n",
    "    return math.sqrt((xa-xb)^2 + (ya-yb)^2 + (za-zb)^2)\n"
   ]
  },
  {
   "cell_type": "code",
   "execution_count": 15,
   "metadata": {},
   "outputs": [],
   "source": [
    "# test_image = cv2.imread('test1.png', cv2.IMREAD_GRAYSCALE)\n",
    "test_image = cv2.imread('test1.png')\n",
    "cv2.imshow('test_image',test_image)\n",
    "cv2.waitKey()\n",
    "cv2.destroyAllWindows()"
   ]
  },
  {
   "cell_type": "code",
   "execution_count": 18,
   "metadata": {},
   "outputs": [
    {
     "data": {
      "text/plain": [
       "(540, 470, 3)"
      ]
     },
     "execution_count": 18,
     "metadata": {},
     "output_type": "execute_result"
    }
   ],
   "source": [
    "test_image.shape"
   ]
  },
  {
   "cell_type": "code",
   "execution_count": 16,
   "metadata": {},
   "outputs": [
    {
     "name": "stderr",
     "output_type": "stream",
     "text": [
      "/home/udit01/anaconda3/envs/imquant/lib/python3.7/site-packages/ipykernel_launcher.py:4: RuntimeWarning: overflow encountered in ubyte_scalars\n",
      "  after removing the cwd from sys.path.\n"
     ]
    }
   ],
   "source": [
    "img = popularity_quant(test_image, 10)\n",
    "cv2.imshow('Popularity Cut image',img)\n",
    "cv2.waitKey()\n",
    "cv2.destroyAllWindows()"
   ]
  },
  {
   "cell_type": "code",
   "execution_count": 17,
   "metadata": {},
   "outputs": [
    {
     "data": {
      "text/plain": [
       "True"
      ]
     },
     "execution_count": 17,
     "metadata": {},
     "output_type": "execute_result"
    }
   ],
   "source": [
    "cv2.imwrite('popularity_test1.png', img)"
   ]
  },
  {
   "cell_type": "code",
   "execution_count": 20,
   "metadata": {},
   "outputs": [
    {
     "name": "stdout",
     "output_type": "stream",
     "text": [
      "1\n"
     ]
    }
   ],
   "source": [
    "print(cv2.COLORMAP_BONE)"
   ]
  },
  {
   "cell_type": "code",
   "execution_count": 86,
   "metadata": {},
   "outputs": [
    {
     "name": "stdout",
     "output_type": "stream",
     "text": [
      "(246, 246, 243)\n"
     ]
    }
   ],
   "source": [
    "print(tuple(test_image[0,0]))"
   ]
  },
  {
   "cell_type": "code",
   "execution_count": 8,
   "metadata": {},
   "outputs": [
    {
     "name": "stdout",
     "output_type": "stream",
     "text": [
      "Help on class filter in module builtins:\n",
      "\n",
      "class filter(object)\n",
      " |  filter(function or None, iterable) --> filter object\n",
      " |  \n",
      " |  Return an iterator yielding those items of iterable for which function(item)\n",
      " |  is true. If function is None, return the items that are true.\n",
      " |  \n",
      " |  Methods defined here:\n",
      " |  \n",
      " |  __getattribute__(self, name, /)\n",
      " |      Return getattr(self, name).\n",
      " |  \n",
      " |  __iter__(self, /)\n",
      " |      Implement iter(self).\n",
      " |  \n",
      " |  __next__(self, /)\n",
      " |      Implement next(self).\n",
      " |  \n",
      " |  __reduce__(...)\n",
      " |      Return state information for pickling.\n",
      " |  \n",
      " |  ----------------------------------------------------------------------\n",
      " |  Static methods defined here:\n",
      " |  \n",
      " |  __new__(*args, **kwargs) from builtins.type\n",
      " |      Create and return a new object.  See help(type) for accurate signature.\n",
      "\n"
     ]
    }
   ],
   "source": [
    "help(filter)"
   ]
  },
  {
   "cell_type": "code",
   "execution_count": null,
   "metadata": {},
   "outputs": [],
   "source": []
  },
  {
   "cell_type": "code",
   "execution_count": null,
   "metadata": {},
   "outputs": [],
   "source": [
    "def get_error(t1, t2):\n",
    "    (xa, ya, za) = t1\n",
    "    (xb, yb, zb) = t2\n",
    "    return ((xa-xb)^2 , (ya-yb)^2 , (za-zb)^2 )"
   ]
  },
  {
   "cell_type": "code",
   "execution_count": null,
   "metadata": {},
   "outputs": [],
   "source": [
    "def dither(image, color_map):\n",
    "    # Assuming we have the color map already\n",
    "    finalImage = image.copy()\n",
    "    (m,n,_) = image.shape\n",
    "        \n",
    "    for i in range(m):\n",
    "        for j in range(n):\n",
    "            t = tuple(image[i,j])\n",
    "            min_dist = 10000.0\n",
    "            for col in color_map:\n",
    "                dist = get_norm(t, col)\n",
    "                if min_dist > dist :\n",
    "                    min_dist = dist\n",
    "                    min_col = col\n",
    "                    \n",
    "            finalImage[i,j] = np.asarray(min_col)\n",
    "            # is the error formula correct ?\n",
    "            error = get_error(t, min_col)\n",
    "            if(j+1 < n):\n",
    "                finalImage[i,j+1] = finalImage[i, j+1] + error*(3.0/8.0)\n",
    "            if(i+1 < m):\n",
    "                finalImage[i+1,j] = finalImage[i+1, j] + error*(3.0/8.0)\n",
    "            if(j+1 < n and i+1 < m):\n",
    "                finalImage[i+1,j+1] = finalImage[i+1, j+1] + error*(1.0/4.0)\n",
    " \n",
    "    return finalImage"
   ]
  },
  {
   "cell_type": "code",
   "execution_count": null,
   "metadata": {},
   "outputs": [],
   "source": []
  },
  {
   "cell_type": "code",
   "execution_count": null,
   "metadata": {},
   "outputs": [],
   "source": []
  }
 ],
 "metadata": {
  "kernelspec": {
   "display_name": "Python 3",
   "language": "python",
   "name": "python3"
  },
  "language_info": {
   "codemirror_mode": {
    "name": "ipython",
    "version": 3
   },
   "file_extension": ".py",
   "mimetype": "text/x-python",
   "name": "python",
   "nbconvert_exporter": "python",
   "pygments_lexer": "ipython3",
   "version": "3.7.0"
  }
 },
 "nbformat": 4,
 "nbformat_minor": 2
}
