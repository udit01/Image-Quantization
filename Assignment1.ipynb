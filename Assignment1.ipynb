{
 "cells": [
  {
   "cell_type": "code",
   "execution_count": 1,
   "metadata": {},
   "outputs": [],
   "source": [
    "import numpy\n",
    "import cv2\n",
    "import heapq\n",
    "import statistics"
   ]
  },
  {
   "cell_type": "code",
   "execution_count": 4,
   "metadata": {},
   "outputs": [],
   "source": [
    "def popularity(image,k):\n",
    "        (m,n,_) = image.shape\n",
    "        d = {}\n",
    "        for i in range(m):\n",
    "            for j in range(n):\n",
    "                if image[i,j] in d:\n",
    "                    d[image[i,j]] += 1\n",
    "                else:\n",
    "                    d[image[i,j]] = 1\n",
    "        top_k_colors =heapq.nlargest(k, d, key=d.get)\n",
    "        return top_k_colors"
   ]
  },
  {
   "cell_type": "code",
   "execution_count": 17,
   "metadata": {},
   "outputs": [],
   "source": [
    "def split(list_of_tuples,colors,color_to_split,k):\n",
    "    if (k==1):\n",
    "        return [sum([x[0]*x[1] for x in list_of_tuples])/(sum([x[1] for x in list_of_tuples]))]\n",
    "    median = statistics.median([x[0][color_to_split] for x in list_of_tuples])\n",
    "    left = filter(lambda x: x[0][color_to_split] <= median , list_of_tuples)\n",
    "    right = filter(lambda x: x[0][color_to_split] > median, list_of_tuples)\n",
    "    return (split(left,colors,(color_to_split+1)%colors,k/2)+split(right,colors,(color_to_split+1)%colors,k/2))"
   ]
  },
  {
   "cell_type": "code",
   "execution_count": null,
   "metadata": {},
   "outputs": [],
   "source": [
    "def median_cut(image,k):\n",
    "    (m,n,c) = image.shape\n",
    "    d = {}\n",
    "    for i in range(m):\n",
    "        for j in range(n):\n",
    "            if image[i,j] in d:\n",
    "                d[image[i,j]] += 1\n",
    "            else:\n",
    "                d[image[i,j]] = 1\n",
    "    l = d.values()\n",
    "    split(l,c,k)"
   ]
  },
  {
   "cell_type": "code",
   "execution_count": 7,
   "metadata": {},
   "outputs": [
    {
     "ename": "SyntaxError",
     "evalue": "invalid syntax (<ipython-input-7-1379b1e1a28d>, line 2)",
     "output_type": "error",
     "traceback": [
      "\u001b[0;36m  File \u001b[0;32m\"<ipython-input-7-1379b1e1a28d>\"\u001b[0;36m, line \u001b[0;32m2\u001b[0m\n\u001b[0;31m    filter(lambda x: if (x <= 2): True\u001b[0m\n\u001b[0m                      ^\u001b[0m\n\u001b[0;31mSyntaxError\u001b[0m\u001b[0;31m:\u001b[0m invalid syntax\n"
     ]
    }
   ],
   "source": [
    "a = [1,2,3,4]\n",
    "filter(lambda x: "
   ]
  },
  {
   "cell_type": "code",
   "execution_count": 9,
   "metadata": {},
   "outputs": [
    {
     "data": {
      "text/plain": [
       "1"
      ]
     },
     "execution_count": 9,
     "metadata": {},
     "output_type": "execute_result"
    }
   ],
   "source": [
    "5%2"
   ]
  },
  {
   "cell_type": "code",
   "execution_count": 4,
   "metadata": {},
   "outputs": [
    {
     "name": "stdout",
     "output_type": "stream",
     "text": [
      "Help on class filter in module builtins:\n",
      "\n",
      "class filter(object)\n",
      " |  filter(function or None, iterable) --> filter object\n",
      " |  \n",
      " |  Return an iterator yielding those items of iterable for which function(item)\n",
      " |  is true. If function is None, return the items that are true.\n",
      " |  \n",
      " |  Methods defined here:\n",
      " |  \n",
      " |  __getattribute__(self, name, /)\n",
      " |      Return getattr(self, name).\n",
      " |  \n",
      " |  __iter__(self, /)\n",
      " |      Implement iter(self).\n",
      " |  \n",
      " |  __next__(self, /)\n",
      " |      Implement next(self).\n",
      " |  \n",
      " |  __reduce__(...)\n",
      " |      Return state information for pickling.\n",
      " |  \n",
      " |  ----------------------------------------------------------------------\n",
      " |  Static methods defined here:\n",
      " |  \n",
      " |  __new__(*args, **kwargs) from builtins.type\n",
      " |      Create and return a new object.  See help(type) for accurate signature.\n",
      "\n"
     ]
    }
   ],
   "source": [
    "help(filter)"
   ]
  },
  {
   "cell_type": "code",
   "execution_count": null,
   "metadata": {},
   "outputs": [],
   "source": []
  }
 ],
 "metadata": {
  "kernelspec": {
   "display_name": "Python 3",
   "language": "python",
   "name": "python3"
  },
  "language_info": {
   "codemirror_mode": {
    "name": "ipython",
    "version": 3
   },
   "file_extension": ".py",
   "mimetype": "text/x-python",
   "name": "python",
   "nbconvert_exporter": "python",
   "pygments_lexer": "ipython3",
   "version": "3.7.0"
  }
 },
 "nbformat": 4,
 "nbformat_minor": 2
}
