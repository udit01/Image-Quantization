{
 "cells": [
  {
   "cell_type": "code",
   "execution_count": 12,
   "metadata": {},
   "outputs": [],
   "source": [
    "import numpy as np\n",
    "import cv2\n",
    "import heapq\n",
    "import statistics\n",
    "import math\n",
    "from scipy.spatial import KDTree"
   ]
  },
  {
   "cell_type": "code",
   "execution_count": 13,
   "metadata": {},
   "outputs": [],
   "source": [
    "def popularity(image,k):\n",
    "        (m,n,_) = image.shape\n",
    "        d = {}\n",
    "        for i in range(m):\n",
    "            for j in range(n):\n",
    "                t = tuple(image[i,j])\n",
    "                if t in d:\n",
    "                    d[t] += 1\n",
    "                else:\n",
    "                    d[t] = 1\n",
    "        top_k_colors =heapq.nlargest(k, d, key=d.get)\n",
    "        for color in top_k_colors:\n",
    "            print(d[color])\n",
    "        return top_k_colors"
   ]
  },
  {
   "cell_type": "code",
   "execution_count": 14,
   "metadata": {},
   "outputs": [],
   "source": [
    "def median(list_of_tuples,total):\n",
    "    list_of_tuples = list(list_of_tuples)\n",
    "    list_of_tuples.sort()\n",
    "    s = 0\n",
    "    i = 0\n",
    "    while(s < total/2):\n",
    "        s += list_of_tuples[i][1]\n",
    "        i += 1\n",
    "    if i==len(list_of_tuples):\n",
    "        i -= 1\n",
    "    return list_of_tuples[i][0]"
   ]
  },
  {
   "cell_type": "code",
   "execution_count": 15,
   "metadata": {},
   "outputs": [],
   "source": [
    "def find_color(list_of_tuples):\n",
    "    min_rgb = np.array([255,255,255])\n",
    "    max_rgb = np.array([0,0,0])\n",
    "    for i in list_of_tuples:\n",
    "        min_rgb = np.minimum(min_rgb,i[0])\n",
    "        max_rgb = np.maximum(max_rgb,i[0])\n",
    "    diff = max_rgb-min_rgb\n",
    "    return diff.argmax()"
   ]
  },
  {
   "cell_type": "code",
   "execution_count": 16,
   "metadata": {},
   "outputs": [],
   "source": [
    "def split(list_of_tuples,k):\n",
    "    # list_of_tuples ((r,g,b), frequencies)\n",
    "    if k == 1:\n",
    "        return [np.average([x[0] for x in list_of_tuples],weights=[x[1] for x in list_of_tuples],axis=0).astype(np.int32)]\n",
    "    color_to_split = find_color(list_of_tuples)\n",
    "    total = 0\n",
    "    d = {}\n",
    "    for t in list_of_tuples:\n",
    "        color_val = t[0][color_to_split]\n",
    "        if color_val in d:\n",
    "            d[color_val] += t[1]\n",
    "            total += t[1]\n",
    "        else:\n",
    "            d[color_val] = t[1]\n",
    "            total += t[1]\n",
    "    m = median(d.items(),total)\n",
    "    left = []\n",
    "    right = []\n",
    "    for i in list_of_tuples:\n",
    "        if i[0][color_to_split] < m:\n",
    "            left.append(i)\n",
    "        else:\n",
    "            right.append(i)\n",
    "    l_colors = split(left,k//2)\n",
    "    r_colors = split(right,k//2)\n",
    "    return l_colors+r_colors"
   ]
  },
  {
   "cell_type": "code",
   "execution_count": 17,
   "metadata": {},
   "outputs": [],
   "source": [
    "def median_cut(image,k):\n",
    "    (m,n,c) = image.shape\n",
    "    d = {}\n",
    "    for i in range(m):\n",
    "        for j in range(n):\n",
    "            t = tuple(image[i,j])\n",
    "            if t in d:\n",
    "                d[t] += 1\n",
    "            else:\n",
    "                d[t] = 1\n",
    "    l = d.items()\n",
    "    return split(l,k)"
   ]
  },
  {
   "cell_type": "code",
   "execution_count": 18,
   "metadata": {},
   "outputs": [],
   "source": [
    "def popularity_quant(image, k):\n",
    "    finalImage = image.copy()\n",
    "    color_map = popularity(image, k)\n",
    "    kd_tree = KDTree(color_map)\n",
    "    data = kd_tree.data\n",
    "    (m,n,_) = image.shape\n",
    "    for i in range(m):\n",
    "        for j in range(n):\n",
    "            finalImage[i,j] = data[kd_tree.query(image[i,j])[1]]\n",
    "    return finalImage"
   ]
  },
  {
   "cell_type": "code",
   "execution_count": 19,
   "metadata": {},
   "outputs": [],
   "source": [
    "def get_norm(t1 , t2):\n",
    "    (xa, ya, za) = t1\n",
    "    (xb, yb, zb) = t2\n",
    "    return (xa-xb)^2 + (ya-yb)^2 + (za-zb)^2\n"
   ]
  },
  {
   "cell_type": "code",
   "execution_count": 20,
   "metadata": {},
   "outputs": [],
   "source": [
    "# test_image = cv2.imread('test1.png', cv2.IMREAD_GRAYSCALE)\n",
    "test_image = cv2.imread('test1.png')"
   ]
  },
  {
   "cell_type": "code",
   "execution_count": 21,
   "metadata": {},
   "outputs": [
    {
     "data": {
      "text/plain": [
       "(540, 470, 3)"
      ]
     },
     "execution_count": 21,
     "metadata": {},
     "output_type": "execute_result"
    }
   ],
   "source": [
    "test_image.shape"
   ]
  },
  {
   "cell_type": "code",
   "execution_count": 22,
   "metadata": {},
   "outputs": [],
   "source": [
    "def dither(image, color_map):\n",
    "    # Assuming we have the color map already\n",
    "    finalImage = image.copy().astype(np.float32)\n",
    "    (m,n,_) = image.shape\n",
    "    kd_tree = KDTree(color_map)\n",
    "    data = kd_tree.data\n",
    "    for i in range(m):\n",
    "        for j in range(n):\n",
    "            t = finalImage[i,j]\n",
    "            for i in range(len(t)):\n",
    "                if t[i] < 0:\n",
    "                    t[i] = 0\n",
    "                elif t[i] > 255:\n",
    "                    t[i] = 255\n",
    "            min_col = data[kd_tree.query(t)[1]]\n",
    "            finalImage[i,j] = min_col\n",
    "            error = t - min_col\n",
    "            if(j+1 < n):\n",
    "                finalImage[i,j+1] = finalImage[i, j+1] + error*(7.0/16.0)\n",
    "            if(i+1 < m):\n",
    "                finalImage[i+1,j] = finalImage[i+1, j] + error*(5.0/16.0)\n",
    "            if(j+1 < n and i+1 < m):\n",
    "                finalImage[i+1,j+1] = finalImage[i+1, j+1] + error*(1.0/16.0)\n",
    "            if (i+1 < m and j-1 > -1):\n",
    "                finalImage[i+1,j-1] = finalImage[i+1,j-1] + error*(3.0/16.0)\n",
    "    return finalImage"
   ]
  },
  {
   "cell_type": "code",
   "execution_count": 25,
   "metadata": {
    "scrolled": true
   },
   "outputs": [
    {
     "name": "stdout",
     "output_type": "stream",
     "text": [
      "20792\n",
      "6968\n",
      "1726\n",
      "1651\n",
      "1492\n",
      "1484\n",
      "1366\n",
      "1328\n",
      "CPU times: user 21.7 s, sys: 231 ms, total: 22 s\n",
      "Wall time: 21.9 s\n"
     ]
    }
   ],
   "source": [
    "%%time\n",
    "img = dither(test_image, popularity(test_image, 8))"
   ]
  },
  {
   "cell_type": "code",
   "execution_count": 26,
   "metadata": {},
   "outputs": [
    {
     "data": {
      "text/plain": [
       "True"
      ]
     },
     "execution_count": 26,
     "metadata": {},
     "output_type": "execute_result"
    }
   ],
   "source": [
    "cv2.imwrite('dither_test1.png', img)"
   ]
  },
  {
   "cell_type": "code",
   "execution_count": null,
   "metadata": {},
   "outputs": [],
   "source": []
  }
 ],
 "metadata": {
  "kernelspec": {
   "display_name": "Python 3",
   "language": "python",
   "name": "python3"
  },
  "language_info": {
   "codemirror_mode": {
    "name": "ipython",
    "version": 3
   },
   "file_extension": ".py",
   "mimetype": "text/x-python",
   "name": "python",
   "nbconvert_exporter": "python",
   "pygments_lexer": "ipython3",
   "version": "3.7.0"
  }
 },
 "nbformat": 4,
 "nbformat_minor": 2
}
